{
  "nbformat": 4,
  "nbformat_minor": 0,
  "metadata": {
    "colab": {
      "provenance": [],
      "mount_file_id": "1z60LJWsi60o-fHHPNHinO6XI5Rvokb2O",
      "authorship_tag": "ABX9TyMLwjk58aM064L9X0TBewwt",
      "include_colab_link": true
    },
    "kernelspec": {
      "name": "python3",
      "display_name": "Python 3"
    },
    "language_info": {
      "name": "python"
    }
  },
  "cells": [
    {
      "cell_type": "markdown",
      "metadata": {
        "id": "view-in-github",
        "colab_type": "text"
      },
      "source": [
        "<a href=\"https://colab.research.google.com/github/ganashreecs22/ml_lab/blob/main/random_forest.ipynb\" target=\"_parent\"><img src=\"https://colab.research.google.com/assets/colab-badge.svg\" alt=\"Open In Colab\"/></a>"
      ]
    },
    {
      "cell_type": "code",
      "execution_count": 4,
      "metadata": {
        "colab": {
          "base_uri": "https://localhost:8080/"
        },
        "id": "Vu1xUF9ijQVD",
        "outputId": "ab51963b-b4af-42e7-a64c-b797bf9394a9"
      },
      "outputs": [
        {
          "output_type": "stream",
          "name": "stdout",
          "text": [
            "✅ Accuracy: 0.776536312849162\n",
            "\n",
            "📊 Classification Report:\n",
            "               precision    recall  f1-score   support\n",
            "\n",
            "           0       0.76      0.91      0.83       105\n",
            "           1       0.83      0.58      0.68        74\n",
            "\n",
            "    accuracy                           0.78       179\n",
            "   macro avg       0.79      0.75      0.76       179\n",
            "weighted avg       0.79      0.78      0.77       179\n",
            "\n"
          ]
        },
        {
          "output_type": "stream",
          "name": "stderr",
          "text": [
            "<ipython-input-4-15029f56576b>:69: FutureWarning: A value is trying to be set on a copy of a DataFrame or Series through chained assignment using an inplace method.\n",
            "The behavior will change in pandas 3.0. This inplace method will never work because the intermediate object on which we are setting values always behaves as a copy.\n",
            "\n",
            "For example, when doing 'df[col].method(value, inplace=True)', try using 'df.method({col: value}, inplace=True)' or df[col] = df[col].method(value) instead, to perform the operation inplace on the original object.\n",
            "\n",
            "\n",
            "  df['Age'].fillna(df['Age'].median(), inplace=True)\n",
            "<ipython-input-4-15029f56576b>:70: FutureWarning: A value is trying to be set on a copy of a DataFrame or Series through chained assignment using an inplace method.\n",
            "The behavior will change in pandas 3.0. This inplace method will never work because the intermediate object on which we are setting values always behaves as a copy.\n",
            "\n",
            "For example, when doing 'df[col].method(value, inplace=True)', try using 'df.method({col: value}, inplace=True)' or df[col] = df[col].method(value) instead, to perform the operation inplace on the original object.\n",
            "\n",
            "\n",
            "  df['Embarked'].fillna(df['Embarked'].mode()[0], inplace=True)\n",
            "<ipython-input-4-15029f56576b>:71: FutureWarning: A value is trying to be set on a copy of a DataFrame or Series through chained assignment using an inplace method.\n",
            "The behavior will change in pandas 3.0. This inplace method will never work because the intermediate object on which we are setting values always behaves as a copy.\n",
            "\n",
            "For example, when doing 'df[col].method(value, inplace=True)', try using 'df.method({col: value}, inplace=True)' or df[col] = df[col].method(value) instead, to perform the operation inplace on the original object.\n",
            "\n",
            "\n",
            "  df['Fare'].fillna(df['Fare'].median(), inplace=True)\n"
          ]
        }
      ],
      "source": [
        "import pandas as pd\n",
        "import numpy as np\n",
        "from sklearn.model_selection import train_test_split\n",
        "from sklearn.tree import DecisionTreeClassifier\n",
        "from sklearn.metrics import accuracy_score, classification_report\n",
        "from sklearn.preprocessing import LabelEncoder\n",
        "from collections import Counter\n",
        "import random\n",
        "\n",
        "# -------------------------\n",
        "# Random Forest From Scratch\n",
        "# -------------------------\n",
        "class CustomRandomForest:\n",
        "    def __init__(self, n_estimators=10, max_features='sqrt', max_depth=None):\n",
        "        self.n_estimators = n_estimators\n",
        "        self.max_features = max_features\n",
        "        self.max_depth = max_depth\n",
        "        self.trees = []\n",
        "\n",
        "    def _bootstrap_sample(self, X, y):\n",
        "        indices = np.random.choice(len(X), size=len(X), replace=True)\n",
        "        return X.iloc[indices], y.iloc[indices]\n",
        "\n",
        "    def _get_max_features(self, n_features):\n",
        "        if self.max_features == 'sqrt':\n",
        "            return int(np.sqrt(n_features))\n",
        "        elif self.max_features == 'log2':\n",
        "            return int(np.log2(n_features))\n",
        "        elif isinstance(self.max_features, int):\n",
        "            return self.max_features\n",
        "        else:\n",
        "            return n_features\n",
        "\n",
        "    def fit(self, X, y):\n",
        "        self.trees = []\n",
        "        for _ in range(self.n_estimators):\n",
        "            X_sample, y_sample = self._bootstrap_sample(X, y)\n",
        "            max_feats = self._get_max_features(X.shape[1])\n",
        "            features = random.sample(list(X.columns), max_feats)\n",
        "\n",
        "            tree = DecisionTreeClassifier(max_depth=self.max_depth)\n",
        "            tree.fit(X_sample[features], y_sample)\n",
        "            self.trees.append((tree, features))\n",
        "\n",
        "    def predict(self, X):\n",
        "        tree_preds = []\n",
        "        for tree, features in self.trees:\n",
        "            preds = tree.predict(X[features])\n",
        "            tree_preds.append(preds)\n",
        "\n",
        "        tree_preds = np.array(tree_preds).T\n",
        "        final_preds = [Counter(row).most_common(1)[0][0] for row in tree_preds]\n",
        "        return np.array(final_preds)\n",
        "\n",
        "# -------------------------\n",
        "# Load and Preprocess Titanic Dataset\n",
        "# -------------------------\n",
        "df = pd.read_csv('train.csv')\n",
        "\n",
        "# Feature engineering\n",
        "df['Title'] = df['Name'].str.extract(' ([A-Za-z]+)\\.', expand=False)\n",
        "df['Title'] = df['Title'].replace(['Lady', 'Countess','Capt','Col','Don',\n",
        "                                   'Dr','Major','Rev','Sir','Jonkheer','Dona'], 'Rare')\n",
        "df['Title'] = df['Title'].replace('Mlle', 'Miss')\n",
        "df['Title'] = df['Title'].replace('Ms', 'Miss')\n",
        "df['Title'] = df['Title'].replace('Mme', 'Mrs')\n",
        "\n",
        "# Fill missing values\n",
        "df['Age'].fillna(df['Age'].median(), inplace=True)\n",
        "df['Embarked'].fillna(df['Embarked'].mode()[0], inplace=True)\n",
        "df['Fare'].fillna(df['Fare'].median(), inplace=True)\n",
        "\n",
        "# Drop unused columns\n",
        "df.drop(['PassengerId', 'Name', 'Ticket', 'Cabin'], axis=1, inplace=True)\n",
        "\n",
        "# Encode categoricals\n",
        "for col in ['Sex', 'Embarked', 'Title']:\n",
        "    le = LabelEncoder()\n",
        "    df[col] = le.fit_transform(df[col])\n",
        "\n",
        "# Features and target\n",
        "X = df.drop('Survived', axis=1)\n",
        "y = df['Survived']\n",
        "\n",
        "# Train/test split\n",
        "X_train, X_test, y_train, y_test = train_test_split(X, y, test_size=0.2, random_state=42)\n",
        "\n",
        "# -------------------------\n",
        "# Train and Evaluate Custom Random Forest\n",
        "# -------------------------\n",
        "model = CustomRandomForest(n_estimators=20, max_features='sqrt', max_depth=7)\n",
        "model.fit(X_train, y_train)\n",
        "y_pred = model.predict(X_test)\n",
        "\n",
        "print(\"✅ Accuracy:\", accuracy_score(y_test, y_pred))\n",
        "print(\"\\n📊 Classification Report:\\n\", classification_report(y_test, y_pred))\n"
      ]
    }
  ]
}