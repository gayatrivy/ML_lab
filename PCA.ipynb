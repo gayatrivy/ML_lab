{
  "nbformat": 4,
  "nbformat_minor": 0,
  "metadata": {
    "colab": {
      "provenance": [],
      "authorship_tag": "ABX9TyP+BDSEenoIEnd/qZnRZJyr",
      "include_colab_link": true
    },
    "kernelspec": {
      "name": "python3",
      "display_name": "Python 3"
    },
    "language_info": {
      "name": "python"
    }
  },
  "cells": [
    {
      "cell_type": "markdown",
      "metadata": {
        "id": "view-in-github",
        "colab_type": "text"
      },
      "source": [
        "<a href=\"https://colab.research.google.com/github/ganashreecs22/ml_lab/blob/main/PCA.ipynb\" target=\"_parent\"><img src=\"https://colab.research.google.com/assets/colab-badge.svg\" alt=\"Open In Colab\"/></a>"
      ]
    },
    {
      "cell_type": "code",
      "execution_count": 1,
      "metadata": {
        "colab": {
          "base_uri": "https://localhost:8080/"
        },
        "id": "cDtJrjDJXtuZ",
        "outputId": "a53698b3-e336-446b-aa7c-c276c4148620"
      },
      "outputs": [
        {
          "output_type": "stream",
          "name": "stdout",
          "text": [
            "First 5 projected data points (PCA 2D):\n",
            "[-2.6842, 0.3266]\n",
            "[-2.7154, -0.1696]\n",
            "[-2.8898, -0.1373]\n",
            "[-2.7464, -0.3111]\n",
            "[-2.7286, 0.3339]\n"
          ]
        }
      ],
      "source": [
        "# PCA implementation from scratch using only built-in Python functions\n",
        "\n",
        "# Step 1: Load the dataset\n",
        "import csv\n",
        "\n",
        "file_path = \"Iris.csv\"  # Change path if needed\n",
        "\n",
        "with open(file_path, \"r\") as file:\n",
        "    reader = csv.reader(file)\n",
        "    data = list(reader)\n",
        "\n",
        "header = data[0]\n",
        "rows = data[1:]\n",
        "\n",
        "# Step 2: Extract only numerical features (columns 1 to 4)\n",
        "features = []\n",
        "for row in rows:\n",
        "    features.append([float(row[1]), float(row[2]), float(row[3]), float(row[4])])\n",
        "\n",
        "# Step 3: Mean centering\n",
        "def mean_center(data):\n",
        "    n = len(data)\n",
        "    d = len(data[0])\n",
        "    mean = [0.0] * d\n",
        "    for i in range(n):\n",
        "        for j in range(d):\n",
        "            mean[j] += data[i][j]\n",
        "    for j in range(d):\n",
        "        mean[j] /= n\n",
        "    centered = []\n",
        "    for i in range(n):\n",
        "        centered.append([data[i][j] - mean[j] for j in range(d)])\n",
        "    return centered, mean\n",
        "\n",
        "centered_data, mean_vector = mean_center(features)\n",
        "\n",
        "# Step 4: Compute covariance matrix\n",
        "def compute_covariance_matrix(data):\n",
        "    n = len(data)\n",
        "    d = len(data[0])\n",
        "    cov_matrix = [[0.0 for _ in range(d)] for _ in range(d)]\n",
        "    for i in range(d):\n",
        "        for j in range(d):\n",
        "            for k in range(n):\n",
        "                cov_matrix[i][j] += data[k][i] * data[k][j]\n",
        "            cov_matrix[i][j] /= (n - 1)\n",
        "    return cov_matrix\n",
        "\n",
        "cov_matrix = compute_covariance_matrix(centered_data)\n",
        "\n",
        "# Step 5: Eigenvalue and eigenvector using power iteration\n",
        "def dot(v1, v2):\n",
        "    return sum(x * y for x, y in zip(v1, v2))\n",
        "\n",
        "def mat_vec_mult(mat, vec):\n",
        "    return [sum(mat[i][j] * vec[j] for j in range(len(vec))) for i in range(len(mat))]\n",
        "\n",
        "def norm(vec):\n",
        "    return sum(x * x for x in vec) ** 0.5\n",
        "\n",
        "def normalize(vec):\n",
        "    n = norm(vec)\n",
        "    return [x / n for x in vec]\n",
        "\n",
        "def power_iteration(mat, num_iter=1000):\n",
        "    b_k = [1.0 for _ in range(len(mat))]\n",
        "    for _ in range(num_iter):\n",
        "        b_k1 = mat_vec_mult(mat, b_k)\n",
        "        b_k = normalize(b_k1)\n",
        "    eigenvalue = dot(b_k, mat_vec_mult(mat, b_k)) / dot(b_k, b_k)\n",
        "    return eigenvalue, b_k\n",
        "\n",
        "def deflate_matrix(mat, eigenvalue, eigenvector):\n",
        "    d = len(mat)\n",
        "    for i in range(d):\n",
        "        for j in range(d):\n",
        "            mat[i][j] -= eigenvalue * eigenvector[i] * eigenvector[j]\n",
        "    return mat\n",
        "\n",
        "# Step 6: Get top 2 eigenvectors (principal components)\n",
        "eigvals = []\n",
        "eigvecs = []\n",
        "cov_copy = [row[:] for row in cov_matrix]\n",
        "\n",
        "for _ in range(2):\n",
        "    val, vec = power_iteration(cov_copy)\n",
        "    eigvals.append(val)\n",
        "    eigvecs.append(vec)\n",
        "    cov_copy = deflate_matrix(cov_copy, val, vec)\n",
        "\n",
        "# Step 7: Project data\n",
        "def project_data(data, components):\n",
        "    projected = []\n",
        "    for row in data:\n",
        "        proj = [dot(row, comp) for comp in components]\n",
        "        projected.append(proj)\n",
        "    return projected\n",
        "\n",
        "projected_data = project_data(centered_data, eigvecs)\n",
        "\n",
        "# Step 8: Print first 5 projected 2D data points\n",
        "print(\"First 5 projected data points (PCA 2D):\")\n",
        "for point in projected_data[:5]:\n",
        "    print([round(x, 4) for x in point])\n"
      ]
    }
  ]
}